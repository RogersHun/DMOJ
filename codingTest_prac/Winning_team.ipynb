{
 "cells": [
  {
   "cell_type": "markdown",
   "metadata": {},
   "source": [
    "### Identify code : ccc19j1"
   ]
  },
  {
   "cell_type": "code",
   "execution_count": 1,
   "metadata": {},
   "outputs": [
    {
     "name": "stdout",
     "output_type": "stream",
     "text": [
      "Banana팀의 승리입니다!\n"
     ]
    }
   ],
   "source": [
    "sht1, sht2, sht3 = 1,2,3\n",
    "\n",
    "a1 = int(input('사과팀 1점슛 성공횟수: '))\n",
    "a2 = int(input('사과팀 2점슛 성공횟수: '))\n",
    "a3 = int(input('사과팀 3점슛 성공횟수: '))\n",
    "b1 = int(input('사과팀 1점슛 성공횟수: '))\n",
    "b2 = int(input('사과팀 2점슛 성공횟수: '))\n",
    "b3 = int(input('사과팀 3점슛 성공횟수: '))\n",
    "\n",
    "if a1*sht1 + a2*sht2 + a3*sht3 > b1*sht1 + b2*sht2 + b3*sht3:\n",
    "    print('Apple팀의 승리입니다!')\n",
    "elif a1*sht1 + a2*sht2 + a3*sht3 == b1*sht1 + b2*sht2 + b3*sht3:\n",
    "    print('동점입니다!')\n",
    "else :\n",
    "    print('Banana팀의 승리입니다!')"
   ]
  }
 ],
 "metadata": {
  "kernelspec": {
   "display_name": "Rogers_AI",
   "language": "python",
   "name": "python3"
  },
  "language_info": {
   "codemirror_mode": {
    "name": "ipython",
    "version": 3
   },
   "file_extension": ".py",
   "mimetype": "text/x-python",
   "name": "python",
   "nbconvert_exporter": "python",
   "pygments_lexer": "ipython3",
   "version": "3.9.16"
  }
 },
 "nbformat": 4,
 "nbformat_minor": 2
}
